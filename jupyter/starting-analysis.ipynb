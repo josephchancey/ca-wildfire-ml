{
 "cells": [
  {
   "cell_type": "code",
   "execution_count": 1,
   "metadata": {},
   "outputs": [],
   "source": [
    "# Import dependencies\n",
    "import urllib.request, json \n",
    "from bson.json_util import dumps, loads\n",
    "import os, ssl\n",
    "import pymongo\n",
    "import itertools"
   ]
  },
  {
   "cell_type": "code",
   "execution_count": 2,
   "metadata": {},
   "outputs": [],
   "source": [
    "# SSL error handling\n",
    "if (not os.environ.get('PYTHONHTTPSVERIFY', '') and\n",
    "getattr(ssl, '_create_unverified_context', None)):\n",
    "    ssl._create_default_https_context = ssl._create_unverified_context"
   ]
  },
  {
   "cell_type": "markdown",
   "metadata": {},
   "source": [
    "## 2021"
   ]
  },
  {
   "cell_type": "code",
   "execution_count": 3,
   "metadata": {},
   "outputs": [],
   "source": [
    "with urllib.request.urlopen(\"https://www.fire.ca.gov/umbraco/api/IncidentApi/List?inactive=true&year=2021\") as url:\n",
    "    inactive_2021 = json.loads(url.read().decode())\n",
    "    # print(json.dumps(data, indent=4, sort_keys=False))"
   ]
  },
  {
   "cell_type": "code",
   "execution_count": 4,
   "metadata": {},
   "outputs": [],
   "source": [
    "with urllib.request.urlopen(\"https://www.fire.ca.gov/umbraco/api/IncidentApi/List?inactive=false&year=2021\") as url:\n",
    "    active_2021 = json.loads(url.read().decode())\n",
    "    # print(json.dumps(data, indent=4, sort_keys=False))"
   ]
  },
  {
   "cell_type": "markdown",
   "metadata": {},
   "source": [
    "## 2020"
   ]
  },
  {
   "cell_type": "code",
   "execution_count": 5,
   "metadata": {},
   "outputs": [],
   "source": [
    "with urllib.request.urlopen(\"https://www.fire.ca.gov/umbraco/api/IncidentApi/List?inactive=true&year=2020\") as url:\n",
    "    inactive_2020 = json.loads(url.read().decode())\n",
    "    # print(json.dumps(data, indent=4, sort_keys=False))"
   ]
  },
  {
   "cell_type": "code",
   "execution_count": 6,
   "metadata": {},
   "outputs": [],
   "source": [
    "with urllib.request.urlopen(\"https://www.fire.ca.gov/umbraco/api/IncidentApi/List?inactive=false&year=2020\") as url:\n",
    "    active_2020 = json.loads(url.read().decode())\n",
    "    # print(json.dumps(data, indent=4, sort_keys=False))"
   ]
  },
  {
   "cell_type": "markdown",
   "metadata": {},
   "source": [
    "## 2019"
   ]
  },
  {
   "cell_type": "code",
   "execution_count": 7,
   "metadata": {},
   "outputs": [],
   "source": [
    "with urllib.request.urlopen(\"https://www.fire.ca.gov/umbraco/api/IncidentApi/List?inactive=true&year=2019\") as url:\n",
    "    inactive_2019 = json.loads(url.read().decode())\n",
    "    # print(json.dumps(data, indent=4, sort_keys=False))"
   ]
  },
  {
   "cell_type": "code",
   "execution_count": 8,
   "metadata": {},
   "outputs": [],
   "source": [
    "with urllib.request.urlopen(\"https://www.fire.ca.gov/umbraco/api/IncidentApi/List?inactive=false&year=2019\") as url:\n",
    "    active_2019 = json.loads(url.read().decode())"
   ]
  },
  {
   "cell_type": "markdown",
   "metadata": {},
   "source": [
    "## 2018"
   ]
  },
  {
   "cell_type": "code",
   "execution_count": 9,
   "metadata": {},
   "outputs": [],
   "source": [
    "with urllib.request.urlopen(\"https://www.fire.ca.gov/umbraco/api/IncidentApi/List?inactive=true&year=2018\") as url:\n",
    "    inactive_2018 = json.loads(url.read().decode())\n",
    "    # print(json.dumps(data, indent=4, sort_keys=False))"
   ]
  },
  {
   "cell_type": "code",
   "execution_count": 10,
   "metadata": {},
   "outputs": [],
   "source": [
    "with urllib.request.urlopen(\"https://www.fire.ca.gov/umbraco/api/IncidentApi/List?inactive=false&year=2018\") as url:\n",
    "    active_2018 = json.loads(url.read().decode())\n",
    "    # print(json.dumps(data, indent=4, sort_keys=False))"
   ]
  },
  {
   "cell_type": "markdown",
   "metadata": {},
   "source": [
    "## 2017"
   ]
  },
  {
   "cell_type": "code",
   "execution_count": 11,
   "metadata": {},
   "outputs": [],
   "source": [
    "with urllib.request.urlopen(\"https://www.fire.ca.gov/umbraco/api/IncidentApi/List?inactive=true&year=2017\") as url:\n",
    "    inactive_2017 = json.loads(url.read().decode())\n",
    "    # print(json.dumps(data, indent=4, sort_keys=False))"
   ]
  },
  {
   "cell_type": "code",
   "execution_count": 12,
   "metadata": {},
   "outputs": [],
   "source": [
    "with urllib.request.urlopen(\"https://www.fire.ca.gov/umbraco/api/IncidentApi/List?inactive=false&year=2017\") as url:\n",
    "    active_2017 = json.loads(url.read().decode())\n",
    "    # print(json.dumps(data, indent=4, sort_keys=False))"
   ]
  },
  {
   "cell_type": "markdown",
   "metadata": {},
   "source": [
    "## 2016"
   ]
  },
  {
   "cell_type": "code",
   "execution_count": 13,
   "metadata": {},
   "outputs": [],
   "source": [
    "with urllib.request.urlopen(\"https://www.fire.ca.gov/umbraco/api/IncidentApi/List?inactive=true&year=2016\") as url:\n",
    "    inactive_2016 = json.loads(url.read().decode())\n",
    "    # print(json.dumps(data, indent=4, sort_keys=False))"
   ]
  },
  {
   "cell_type": "code",
   "execution_count": 14,
   "metadata": {},
   "outputs": [],
   "source": [
    "with urllib.request.urlopen(\"https://www.fire.ca.gov/umbraco/api/IncidentApi/List?inactive=false&year=2016\") as url:\n",
    "    active_2016 = json.loads(url.read().decode())\n",
    "    # print(json.dumps(data, indent=4, sort_keys=False))"
   ]
  },
  {
   "cell_type": "markdown",
   "metadata": {},
   "source": [
    "## 2015"
   ]
  },
  {
   "cell_type": "code",
   "execution_count": 15,
   "metadata": {},
   "outputs": [],
   "source": [
    "with urllib.request.urlopen(\"https://www.fire.ca.gov/umbraco/api/IncidentApi/List?inactive=true&year=2015\") as url:\n",
    "    inactive_2015 = json.loads(url.read().decode())\n",
    "    # print(json.dumps(data, indent=4, sort_keys=False))"
   ]
  },
  {
   "cell_type": "code",
   "execution_count": 16,
   "metadata": {},
   "outputs": [],
   "source": [
    "with urllib.request.urlopen(\"https://www.fire.ca.gov/umbraco/api/IncidentApi/List?inactive=false&year=2015\") as url:\n",
    "    active_2015 = json.loads(url.read().decode())\n",
    "    # print(json.dumps(data, indent=4, sort_keys=False))"
   ]
  },
  {
   "cell_type": "markdown",
   "metadata": {},
   "source": [
    "## 2014"
   ]
  },
  {
   "cell_type": "code",
   "execution_count": 17,
   "metadata": {},
   "outputs": [],
   "source": [
    "with urllib.request.urlopen(\"https://www.fire.ca.gov/umbraco/api/IncidentApi/List?inactive=true&year=2014\") as url:\n",
    "    inactive_2014 = json.loads(url.read().decode())\n",
    "    # print(json.dumps(data, indent=4, sort_keys=False))"
   ]
  },
  {
   "cell_type": "code",
   "execution_count": 18,
   "metadata": {},
   "outputs": [],
   "source": [
    "with urllib.request.urlopen(\"https://www.fire.ca.gov/umbraco/api/IncidentApi/List?inactive=false&year=2014\") as url:\n",
    "    active_2014 = json.loads(url.read().decode())\n",
    "    # print(json.dumps(data, indent=4, sort_keys=False))"
   ]
  },
  {
   "cell_type": "markdown",
   "metadata": {},
   "source": [
    "## 2013"
   ]
  },
  {
   "cell_type": "code",
   "execution_count": 19,
   "metadata": {},
   "outputs": [],
   "source": [
    "with urllib.request.urlopen(\"https://www.fire.ca.gov/umbraco/api/IncidentApi/List?inactive=true&year=2013\") as url:\n",
    "    inactive_2013 = json.loads(url.read().decode())\n",
    "    # print(json.dumps(data, indent=4, sort_keys=False))"
   ]
  },
  {
   "cell_type": "code",
   "execution_count": 20,
   "metadata": {},
   "outputs": [],
   "source": [
    "with urllib.request.urlopen(\"https://www.fire.ca.gov/umbraco/api/IncidentApi/List?inactive=false&year=2013\") as url:\n",
    "    active_2013 = json.loads(url.read().decode())\n",
    "    # print(json.dumps(data, indent=4, sort_keys=False))"
   ]
  },
  {
   "cell_type": "markdown",
   "metadata": {},
   "source": [
    "## Concat lists"
   ]
  },
  {
   "cell_type": "code",
   "execution_count": 21,
   "metadata": {},
   "outputs": [
    {
     "name": "stdout",
     "output_type": "stream",
     "text": [
      "<class 'list'>\n",
      "2076\n"
     ]
    }
   ],
   "source": [
    "final_data = list(itertools.chain(active_2021,inactive_2021, active_2020, inactive_2020, active_2019,inactive_2019, active_2018, inactive_2018, active_2018, inactive_2017,active_2016, inactive_2016, active_2015, inactive_2015, active_2014, inactive_2014, active_2013, inactive_2013))\n",
    "print(type(final_data))\n",
    "print(len(final_data))"
   ]
  },
  {
   "cell_type": "markdown",
   "metadata": {},
   "source": [
    "## Pymongo Connection"
   ]
  },
  {
   "cell_type": "code",
   "execution_count": 22,
   "metadata": {},
   "outputs": [],
   "source": [
    "# Initialize PyMongo to work with MongoDBs\n",
    "conn = 'mongodb://localhost:27017'\n",
    "client = pymongo.MongoClient(conn)\n",
    "\n",
    "# Define database and collection\n",
    "db = client.calfire\n",
    "collection = db.fires"
   ]
  },
  {
   "cell_type": "markdown",
   "metadata": {},
   "source": [
    "## Add data to MongoDB"
   ]
  },
  {
   "cell_type": "code",
   "execution_count": 23,
   "metadata": {},
   "outputs": [],
   "source": [
    "# Loop through list and add each dictionary item to MongoDB\n",
    "for item in final_data:\n",
    "    collection.insert_one(item)"
   ]
  },
  {
   "cell_type": "markdown",
   "metadata": {},
   "source": [
    "## Create .JSON file"
   ]
  },
  {
   "cell_type": "code",
   "execution_count": 24,
   "metadata": {},
   "outputs": [],
   "source": [
    "# Converting to the JSON\n",
    "json_data = dumps(final_data, indent = 4) \n",
    "   \n",
    "# Writing data to file data.json - Easy for JavaScript Access\n",
    "with open('../data/fires.json', 'w') as file:\n",
    "    file.write(json_data)"
   ]
  },
  {
   "cell_type": "code",
   "execution_count": null,
   "metadata": {},
   "outputs": [],
   "source": []
  }
 ],
 "metadata": {
  "interpreter": {
   "hash": "b3ba2566441a7c06988d0923437866b63cedc61552a5af99d1f4fb67d367b25f"
  },
  "kernelspec": {
   "display_name": "Python 3.8.5 64-bit ('base': conda)",
   "name": "python3"
  },
  "language_info": {
   "codemirror_mode": {
    "name": "ipython",
    "version": 3
   },
   "file_extension": ".py",
   "mimetype": "text/x-python",
   "name": "python",
   "nbconvert_exporter": "python",
   "pygments_lexer": "ipython3",
   "version": "3.8.5"
  },
  "orig_nbformat": 4
 },
 "nbformat": 4,
 "nbformat_minor": 2
}
